{
 "cells": [
  {
   "cell_type": "markdown",
   "metadata": {
    "id": "qu6qajUhItZa"
   },
   "source": [
    "# MPHY0041 - CW1 - Notebook 2023/24"
   ]
  },
  {
   "cell_type": "code",
   "execution_count": 2,
   "metadata": {
    "id": "7hUWuuvhJiZy"
   },
   "outputs": [],
   "source": [
    "#import several libraries\n",
    "import sys\n",
    "import pandas as pd\n",
    "import numpy as np\n",
    "import matplotlib.pyplot as plt\n",
    "from scipy.special import expit"
   ]
  },
  {
   "cell_type": "markdown",
   "metadata": {
    "id": "UL41pCQvI2An"
   },
   "source": [
    "## Exercise 1: Decision Boundaries"
   ]
  },
  {
   "cell_type": "code",
   "execution_count": 3,
   "metadata": {
    "scrolled": false
   },
   "outputs": [
    {
     "data": {
      "text/html": [
       "<div>\n",
       "<style scoped>\n",
       "    .dataframe tbody tr th:only-of-type {\n",
       "        vertical-align: middle;\n",
       "    }\n",
       "\n",
       "    .dataframe tbody tr th {\n",
       "        vertical-align: top;\n",
       "    }\n",
       "\n",
       "    .dataframe thead th {\n",
       "        text-align: right;\n",
       "    }\n",
       "</style>\n",
       "<table border=\"1\" class=\"dataframe\">\n",
       "  <thead>\n",
       "    <tr style=\"text-align: right;\">\n",
       "      <th></th>\n",
       "      <th>Unnamed: 0</th>\n",
       "      <th>COHORT_DEFINITION</th>\n",
       "      <th>ENROLL_AGE</th>\n",
       "      <th>DATSCAN_CAUDATE_R</th>\n",
       "      <th>DATSCAN_CAUDATE_L</th>\n",
       "      <th>DATSCAN_PUTAMEN_R</th>\n",
       "      <th>DATSCAN_PUTAMEN_L</th>\n",
       "      <th>NP2PTOT</th>\n",
       "    </tr>\n",
       "  </thead>\n",
       "  <tbody>\n",
       "    <tr>\n",
       "      <th>0</th>\n",
       "      <td>0</td>\n",
       "      <td>Healthy Control</td>\n",
       "      <td>69.1</td>\n",
       "      <td>2.99</td>\n",
       "      <td>3.43</td>\n",
       "      <td>2.94</td>\n",
       "      <td>2.63</td>\n",
       "      <td>0.0</td>\n",
       "    </tr>\n",
       "    <tr>\n",
       "      <th>1</th>\n",
       "      <td>1</td>\n",
       "      <td>Parkinson's Disease</td>\n",
       "      <td>65.1</td>\n",
       "      <td>1.56</td>\n",
       "      <td>1.12</td>\n",
       "      <td>0.62</td>\n",
       "      <td>0.48</td>\n",
       "      <td>3.0</td>\n",
       "    </tr>\n",
       "    <tr>\n",
       "      <th>2</th>\n",
       "      <td>2</td>\n",
       "      <td>Parkinson's Disease</td>\n",
       "      <td>67.6</td>\n",
       "      <td>2.13</td>\n",
       "      <td>2.28</td>\n",
       "      <td>0.80</td>\n",
       "      <td>0.83</td>\n",
       "      <td>15.0</td>\n",
       "    </tr>\n",
       "    <tr>\n",
       "      <th>3</th>\n",
       "      <td>3</td>\n",
       "      <td>Parkinson's Disease</td>\n",
       "      <td>56.7</td>\n",
       "      <td>2.19</td>\n",
       "      <td>1.27</td>\n",
       "      <td>0.66</td>\n",
       "      <td>0.57</td>\n",
       "      <td>5.0</td>\n",
       "    </tr>\n",
       "    <tr>\n",
       "      <th>4</th>\n",
       "      <td>4</td>\n",
       "      <td>Parkinson's Disease</td>\n",
       "      <td>57.5</td>\n",
       "      <td>2.28</td>\n",
       "      <td>2.12</td>\n",
       "      <td>0.76</td>\n",
       "      <td>0.15</td>\n",
       "      <td>4.0</td>\n",
       "    </tr>\n",
       "  </tbody>\n",
       "</table>\n",
       "</div>"
      ],
      "text/plain": [
       "   Unnamed: 0    COHORT_DEFINITION  ENROLL_AGE  DATSCAN_CAUDATE_R  \\\n",
       "0           0      Healthy Control        69.1               2.99   \n",
       "1           1  Parkinson's Disease        65.1               1.56   \n",
       "2           2  Parkinson's Disease        67.6               2.13   \n",
       "3           3  Parkinson's Disease        56.7               2.19   \n",
       "4           4  Parkinson's Disease        57.5               2.28   \n",
       "\n",
       "   DATSCAN_CAUDATE_L  DATSCAN_PUTAMEN_R  DATSCAN_PUTAMEN_L  NP2PTOT  \n",
       "0               3.43               2.94               2.63      0.0  \n",
       "1               1.12               0.62               0.48      3.0  \n",
       "2               2.28               0.80               0.83     15.0  \n",
       "3               1.27               0.66               0.57      5.0  \n",
       "4               2.12               0.76               0.15      4.0  "
      ]
     },
     "execution_count": 3,
     "metadata": {},
     "output_type": "execute_result"
    }
   ],
   "source": [
    "df = pd.read_csv('PPMI_DATSCAN.csv')\n",
    "df.head()"
   ]
  },
  {
   "cell_type": "markdown",
   "metadata": {},
   "source": [
    "### a)"
   ]
  },
  {
   "cell_type": "code",
   "execution_count": 4,
   "metadata": {},
   "outputs": [
    {
     "name": "stdout",
     "output_type": "stream",
     "text": [
      "Mean for Healthy Control group: 2.16\n",
      "Mean for Parkinson's Disease group: 0.833\n",
      "Standard deviation: 0.691\n",
      "Decision boundary: 1.49\n"
     ]
    }
   ],
   "source": [
    "#Remove SWEDD subjects from the dataset\n",
    "df_filtered = df[df['COHORT_DEFINITION'] != 'SWEDD']\n",
    "\n",
    "#Compute means for DaT scan for 'HC' and 'Parkinsons' groups\n",
    "mean_HC = df_filtered[df_filtered['COHORT_DEFINITION'] == 'Healthy Control']['DATSCAN_PUTAMEN_R'].mean()\n",
    "mean_Parkinsons = df_filtered[df_filtered['COHORT_DEFINITION'] == 'Parkinson\\'s Disease']['DATSCAN_PUTAMEN_R'].mean()\n",
    "\n",
    "#Compute the standard deviation for DaT scan in the right putamen, assuming a Gaussian distribution\n",
    "#Standard deviation for DaT scan for entire dataset after SWEDD subjects have been removed: \n",
    "sd = df_filtered['DATSCAN_PUTAMEN_R'].std()\n",
    "\n",
    "print(f\"Mean for Healthy Control group: {mean_HC:.3g}\")\n",
    "print(f\"Mean for Parkinson's Disease group: {mean_Parkinsons:.3g}\")\n",
    "print(f\"Standard deviation: {sd:.3g}\")\n",
    "\n",
    "#Compute the decision boundary between the two disease groups (with the prior probabilities π_HC = π_PD = 0.5)\n",
    "decision_boundary = (mean_HC + mean_Parkinsons) / 2\n",
    "\n",
    "print(f\"Decision boundary: {decision_boundary:.3g}\")"
   ]
  },
  {
   "cell_type": "markdown",
   "metadata": {},
   "source": [
    "### b)"
   ]
  },
  {
   "cell_type": "code",
   "execution_count": 5,
   "metadata": {},
   "outputs": [
    {
     "data": {
      "image/png": "[encoded data removed]",
      "text/plain": [
       "<Figure size 640x480 with 1 Axes>"
      ]
     },
     "metadata": {},
     "output_type": "display_data"
    }
   ],
   "source": [
    "from sklearn.linear_model import LinearRegression\n",
    "\n",
    "#Further filter to include only Healthy Control and Parkinson's Disease data\n",
    "df_further_filtered = df_filtered[(df_filtered['COHORT_DEFINITION'] == 'Healthy Control') | (df_filtered['COHORT_DEFINITION'] == 'Parkinson\\'s Disease')]\n",
    "\n",
    "#Set input features (x) and target (y)\n",
    "X = df_further_filtered[['DATSCAN_PUTAMEN_R', 'NP2PTOT']]\n",
    "y = df_further_filtered['COHORT_DEFINITION'].map({'Healthy Control': 0, 'Parkinson\\'s Disease': 1})  # Convert to binary labels\n",
    "\n",
    "#Train the Linear Regression model\n",
    "lr = LinearRegression()\n",
    "lr.fit(X, y)\n",
    "\n",
    "# Generate scatter plot with color mapping for 'COHORT_DEFINITION'\n",
    "plt.scatter(X['DATSCAN_PUTAMEN_R'], X['NP2PTOT'], c=y.map({0: 'blue', 1: 'red'}))\n",
    "\n",
    "# Calculate and plot the decision boundary\n",
    "x1_range = np.linspace(X['DATSCAN_PUTAMEN_R'].min(), X['DATSCAN_PUTAMEN_R'].max(), 100)\n",
    "x2_boundary = (0.5 - lr.intercept_ - lr.coef_[0] * x1_range) / lr.coef_[1]\n",
    "plt.plot(x1_range, x2_boundary, label='Decision Boundary', color='black')\n",
    "\n",
    "# Customize the plot\n",
    "plt.xlabel('DATSCAN_PUTAMEN_R')\n",
    "plt.ylabel('MDS UPDRS Part II Score (NP2PTOT)')\n",
    "plt.title('Scatter Plot')\n",
    "plt.legend(['Decision Boundary', 'HC', 'PD'])\n",
    "plt.ylim(0, 42)\n",
    "plt.show()"
   ]
  },
  {
   "cell_type": "markdown",
   "metadata": {},
   "source": [
    "### c)"
   ]
  },
  {
   "cell_type": "code",
   "execution_count": null,
   "metadata": {},
   "outputs": [],
   "source": [
    "#Compute means for all three groups for DaT scan in the right putamen \n",
    "mean_All = df. "
   ]
  },
  {
   "cell_type": "markdown",
   "metadata": {
    "id": "KhvGJtC8I69j"
   },
   "source": [
    "## Exercise 2: Regression Implementations"
   ]
  },
  {
   "cell_type": "code",
   "execution_count": null,
   "metadata": {},
   "outputs": [],
   "source": []
  },
  {
   "cell_type": "markdown",
   "metadata": {
    "id": "5dU_aaePJXiN"
   },
   "source": [
    "### a) Complete the code for Linear Regression RSS with L2 regularization"
   ]
  },
  {
   "cell_type": "code",
   "execution_count": null,
   "metadata": {
    "id": "WkEw05EzJWw1"
   },
   "outputs": [],
   "source": [
    "#implement ridge regression (linear regression with L2 regularization)\n",
    "#this function fits Linear Regression with L2 regularization (ridge regression) using Gradient Descent\n",
    "#inputs are\n",
    "#y:         continous values\n",
    "#features:  input feature matrix\n",
    "#lam:       lambda value for regularization\n",
    "#eps:       tolerance for the stopping criterion for gradient descent\n",
    "#rho:       step size in gradient descent\n",
    "#maxiter: maximum iterations\n",
    "\n",
    "#function returns the intercept_ (\\beta_0) and the coefficients_ (\\beta_i)\n",
    "def fit_RSSl2_GRAD(y, features, lam=0.00, eps=1e-9, rho=1.0, maxiter=10000):\n",
    "    #sample size\n",
    "    N = features.shape[0]\n",
    "    #feature dim\n",
    "    p = features.shape[1] + 1\n",
    "    #initalize beta with 0s\n",
    "    betas_ = np.zeros(p)\n",
    "    #add column of 1 to X\n",
    "    X = np.c_[np.ones(N),features]\n",
    "    #compute predictions\n",
    "    yhat =  X @ betas_\n",
    "\n",
    "    old_cost = 100000000\n",
    "    #compute the cost (J) of the current solution\n",
    "    #COMPLETE THIS LINE\n",
    "    cost =\n",
    "\n",
    "    #as long as the there is a differentce between old and new cost that is larger\n",
    "    #than the tolerance we update the parameters\n",
    "    cnt = 0\n",
    "    while (abs(old_cost - cost) > eps) and (cnt < maxiter):\n",
    "        cnt += 1\n",
    "        #beta update (one step of the gradient descent)\n",
    "        #COMPLETE THIS SECTION\n",
    "        betas_ =\n",
    "\n",
    "        #update predictions\n",
    "        yhat =  X @ betas_\n",
    "\n",
    "        old_cost = np.copy(cost)\n",
    "        #recompute cost\n",
    "        #COMPLETE THIS LINE\n",
    "        cost =\n",
    "\n",
    "        #reduce learning rate in case the cost increased\n",
    "        #reset to previous solution\n",
    "        if cost > old_cost:\n",
    "            rho /= 2\n",
    "    return(betas_)"
   ]
  },
  {
   "cell_type": "markdown",
   "metadata": {
    "id": "bjdulpToM1nV"
   },
   "source": [
    "### b) Complete the code for Linear Regression with LogCosh loss via Gradient Descent"
   ]
  },
  {
   "cell_type": "code",
   "execution_count": null,
   "metadata": {
    "id": "-4VWqCo-gZlY"
   },
   "outputs": [],
   "source": [
    "#this function fits Linear Regression with LogCosh loss using Gradient Descent\n",
    "#inputs are\n",
    "#y:         continous values\n",
    "#features:  input feature matrix\n",
    "#eps:       tolerance for the stopping criterion for gradient descent\n",
    "#rho:       step size in gradient descent\n",
    "#maxiter: maximum iterations\n",
    "\n",
    "#this function returns the beta coefficients for a Linear Regression model\n",
    "#the first entry (betas[0] is the intercept)\n",
    "def fit_logcosh_GRAD(y, features, eps=1e-9, rho=1.0, maxiter=10000):\n",
    "    #sample size\n",
    "    N = features.shape[0]\n",
    "    #feature dim\n",
    "    p = features.shape[1] + 1\n",
    "    #initalize beta with 0s\n",
    "    betas_ = np.zeros(p)\n",
    "    #add column of 1 to X\n",
    "    X = np.c_[np.ones(N),features]\n",
    "    #compute predictions\n",
    "    yhat =  X @ betas_\n",
    "\n",
    "    old_cost = 100000000\n",
    "    #compute the cost (J) of the current solution\n",
    "    #COMPLETE THIS LINE\n",
    "    cost =\n",
    "    #as long as the there is a differentce between old and new cost that is larger\n",
    "    #than the tolerance we update the parameters\n",
    "    cnt = 0\n",
    "    while (abs(old_cost - cost) > eps) and (cnt < maxiter):\n",
    "        cnt += 1\n",
    "        #beta update (one step of the gradient descent)\n",
    "        #COMPLETE THIS SECTION\n",
    "        betas_ =\n",
    "\n",
    "        #update predictions\n",
    "        yhat =  X @ betas_\n",
    "\n",
    "        old_cost = np.copy(cost)\n",
    "        #recompute cost\n",
    "        #COMPLETE THIS LINE\n",
    "        cost =\n",
    "\n",
    "        #reduce learning rate in case the cost increased\n",
    "        #reset to previous solution\n",
    "        if cost > old_cost:\n",
    "            rho /= 2\n",
    "    return(betas_)"
   ]
  },
  {
   "cell_type": "markdown",
   "metadata": {
    "id": "CaktByf5PEGy"
   },
   "source": [
    "### c) Complete the code for linear regression with linear models for mean and standard deviation"
   ]
  },
  {
   "cell_type": "markdown",
   "metadata": {
    "id": "V9IpxNqqnBtK"
   },
   "source": [
    "* Deriving the Loss function:\n",
    "\n",
    "* Deriving the gradients:\n"
   ]
  },
  {
   "cell_type": "code",
   "execution_count": null,
   "metadata": {
    "id": "18-i_80-mYnF"
   },
   "outputs": [],
   "source": [
    "#this function fits Linear Regression flexible noise component N(mu(x), sigma(x))\n",
    "#inputs are\n",
    "#y:         continous values\n",
    "#features:  input feature matrix\n",
    "#eps:       tolerance for the stopping criterion for gradient descent\n",
    "#rho:       step size in gradient descent\n",
    "#maxiter: maximum iterations\n",
    "\n",
    "#this function returns the beta coefficients for a Linear Regression model\n",
    "#the first entry (betas[0] is the intercept)\n",
    "def fit_norm_GRAD(y, features, eps=1e-9, rho=0.1, maxiter=10000):\n",
    "    #sample size\n",
    "    N = features.shape[0]\n",
    "    #feature dim\n",
    "    p = features.shape[1] + 1\n",
    "    #initalize beta with 0s\n",
    "    betas_ = np.zeros(p)\n",
    "    thetas_ = np.ones(p)\n",
    "    #add column of 1 to X\n",
    "    X = np.c_[np.ones(N),features]\n",
    "    #compute predictions\n",
    "    mu_hat =  X @ betas_\n",
    "    sigma_hat = X @ thetas_\n",
    "\n",
    "    old_cost = 100000000\n",
    "    #compute the cost (J) of the current solution\n",
    "    #COMPLETE THIS LINE\n",
    "    cost =\n",
    "    #as long as the there is a differentce between old and new cost that is larger\n",
    "    #than the tolerance we update the parameters\n",
    "    cnt = 0\n",
    "    while (abs(old_cost - cost) > eps) and (cnt < maxiter):\n",
    "        cnt += 1\n",
    "        #beta update (one step of the gradient descent)\n",
    "        #COMPLETE THIS SECTION\n",
    "        betas_ =\n",
    "        thetas_ =\n",
    "\n",
    "        #update probabilities\n",
    "        mu_hat =  X @ betas_\n",
    "        sigma_hat = X @ thetas_\n",
    "\n",
    "        old_cost = np.copy(cost)\n",
    "        #recompute cost\n",
    "        #COMPLETE THIS LINE\n",
    "        cost =\n",
    "\n",
    "        #reduce learning rate in case the cost increased\n",
    "        #reset to previous solution\n",
    "        if cost > old_cost:\n",
    "            rho /= 2\n",
    "    return(betas_, thetas_)"
   ]
  },
  {
   "cell_type": "markdown",
   "metadata": {
    "id": "7mFcrcMxJBnH"
   },
   "source": [
    "## Exercise 3: Suggest improvements to the ML pipeline"
   ]
  },
  {
   "cell_type": "markdown",
   "metadata": {
    "id": "5Jl2NRI7Sy9F"
   },
   "source": [
    "\n",
    "\n",
    "1.   \n",
    "2.  \n",
    "3.\n",
    "4.\n",
    "\n"
   ]
  },
  {
   "cell_type": "markdown",
   "metadata": {
    "id": "LwlddBbwJMT-"
   },
   "source": [
    "## Exercise 4: Retinal Fluid Segmentation"
   ]
  },
  {
   "cell_type": "code",
   "execution_count": null,
   "metadata": {
    "id": "rsp6ecxA8lbY"
   },
   "outputs": [],
   "source": [
    "import imageio.v3\n",
    "import os\n",
    "import numpy as np\n",
    "import pandas as pd\n",
    "import sklearn\n",
    "import matplotlib.pyplot as plt\n",
    "from sklearn import ensemble\n",
    "from sklearn import svm\n",
    "from sklearn import model_selection\n",
    "from sklearn.preprocessing import StandardScaler\n",
    "from sklearn.metrics import roc_auc_score\n",
    "from sklearn.feature_extraction import image\n",
    "from skimage.filters import scharr\n",
    "from skimage.color import rgb2gray\n"
   ]
  },
  {
   "cell_type": "code",
   "execution_count": null,
   "metadata": {
    "id": "TAOQDSFFsnBa"
   },
   "outputs": [],
   "source": [
    "#helper function to read image along with mask\n",
    "def read_img(pt, iname):\n",
    "  img_f = os.listdir(pt + \"/\" + iname + \"/images/\")[0]\n",
    "  msk_f = os.listdir(pt + \"/\" + iname + \"/masks/\")[0]\n",
    "  im  = imageio.v3.imread(pt + \"/\" + iname + \"/images/\" + img_f)\n",
    "  msk = imageio.v3.imread(pt + \"/\" + iname + \"/masks/\" + msk_f)\n",
    "  return (im, msk)"
   ]
  },
  {
   "cell_type": "code",
   "execution_count": null,
   "metadata": {
    "id": "MLAagbE68lbh"
   },
   "outputs": [],
   "source": [
    "train_path = './train/'\n",
    "vali_path = './vali/'\n",
    "test_path = './test/'"
   ]
  },
  {
   "cell_type": "code",
   "execution_count": null,
   "metadata": {
    "id": "euRnFcx38lbh"
   },
   "outputs": [],
   "source": [
    "#this function takes an input image and\n",
    "#does the manual feature extraction\n",
    "#currently it simply turns the color image to a gray scale image.\n",
    "#but you can modify this function to add new features\n",
    "#e.g., by appling any filters.\n",
    "\n",
    "#if the variable nchan is sset to True, then the return is just the number of channels\n",
    "\n",
    "def preprocess_img(img, nchan=False):\n",
    "    #some examples for pre-processing:\n",
    "\n",
    "    ##do nothing\n",
    "    ##copy all three channels\n",
    "    #res = img\n",
    "\n",
    "    ##just use the green channel\n",
    "    #res = img[:,:,1]\n",
    "\n",
    "    ##single channel gray\n",
    "    res = rgb2gray(img) * 255\n",
    "\n",
    "    #note some of the images are bit 'cut off' this sets the white regions to black\n",
    "    res[res > 250] = 0\n",
    "\n",
    "    #some examples for possible extensions:\n",
    "    ##add the red channel\n",
    "    #res = np.dstack( (res, img[:,:,1]))\n",
    "\n",
    "    #add some edge filter applied to the green channel\n",
    "    #res = np.dstack((res, scharr(img[:,:,1]) * 255))\n",
    "\n",
    "    #NOTE: the skimage library contains useful filters\n",
    "\n",
    "    #if nchan is True, then just return the number of channels\n",
    "    #the pre-processing produces\n",
    "    if nchan:\n",
    "        try:\n",
    "            return(res.shape[2])\n",
    "        except IndexError:\n",
    "            return(1)\n",
    "    return (res)"
   ]
  },
  {
   "cell_type": "code",
   "execution_count": null,
   "metadata": {
    "id": "8-NNAfF_vnEH"
   },
   "outputs": [],
   "source": [
    "#turn the images into a training dataset\n",
    "#train_path:    path to the training data\n",
    "#n_train_patch: number of patches to be extracted per image\n",
    "#ps :           patch size as integer (e.g., 7 -> 7x7 patches)\n",
    "#chan:          number of 'channels' the pre_processed image will have\n",
    "\n",
    "def create_training_set(train_path, n_train_patch, ps, chan, verbose=True):\n",
    "  if verbose:\n",
    "    print(\"Extracting \" + str(n_train_patch) + \" pataches of size \" + str(ps) + \"x\" + str(ps) + \" from each image.\")\n",
    "\n",
    "  #dimension of square patch\n",
    "  patch_dim = (ps, ps)\n",
    "  #center of the patch\n",
    "  patch_cnt = int((ps-1)/2)\n",
    "  #dimension of the 'flattened' patch\n",
    "\n",
    "  flat_dim = ps*ps*chan\n",
    "\n",
    "  #initialize Y and X\n",
    "  Y = []\n",
    "  X = np.empty((0,flat_dim))\n",
    "\n",
    "  train_imgs = os.listdir(train_path)\n",
    "\n",
    "  for s in np.arange(400):\n",
    "    if verbose:\n",
    "      print(\"Extracting data from subject: \" + str(s))\n",
    "\n",
    "    img_m, msk_x = read_img(train_path, train_imgs[s])\n",
    "\n",
    "    #binarize the mask\n",
    "    msk = (msk_x > 0) * 1\n",
    "\n",
    "    #extract features\n",
    "    frames = preprocess_img(img_m)\n",
    "    #add the labels as an additional channel\n",
    "    frames = np.dstack((frames, msk))\n",
    "\n",
    "    #sample patches\n",
    "    patch = image.extract_patches_2d(frames, patch_dim, max_patches=n_train_patch)\n",
    "\n",
    "    #each patch receives the label of the center value in the 'label' channel\n",
    "    Y_tmp = patch[:,patch_cnt,patch_cnt,chan] == 1\n",
    "    #turn patches into a matrix where each row corresponds to all the features\n",
    "    #of one patch\n",
    "    X_tmp = np.reshape(patch[:,:,:,0:chan],(n_train_patch,flat_dim))\n",
    "\n",
    "    #concatenate with Y and X\n",
    "    Y.extend(Y_tmp)\n",
    "    X = np.concatenate((X, X_tmp), axis=0)\n",
    "  return (Y, X)"
   ]
  },
  {
   "cell_type": "code",
   "execution_count": null,
   "metadata": {
    "id": "BFIE2wDNzUZS"
   },
   "outputs": [],
   "source": [
    "#this function takes X and Y as input and\n",
    "#oversamples the target class ('1') with a ratio:1 ratio (default: 200)\n",
    "#from the overall size of X a sub_sample of 'sample_size' is randomly selected\n",
    "def sub_sample(X, Y, sample_size=10000, ratio=200):\n",
    "  #resampling with 200:1 chance\n",
    "  weights = np.array([1] * len(Y))\n",
    "  weights[Y] = 200\n",
    "  weights = weights/np.sum(weights)\n",
    "\n",
    "  #sample 10000 of the generated patches\n",
    "  idx = np.random.choice(X.shape[0],sample_size,replace=False, p=np.array(weights))\n",
    "\n",
    "  Xsub = X[idx,:]\n",
    "  Ysub = np.array(Y)[idx]\n",
    "\n",
    "  return Xsub, Ysub, idx"
   ]
  },
  {
   "cell_type": "code",
   "execution_count": null,
   "metadata": {
    "id": "QjRtb4FcwkI_"
   },
   "outputs": [],
   "source": [
    "im, msk = read_img(train_path, \"10DME_F\")\n",
    "#show the input image\n",
    "plt.imshow(im)\n",
    "#obtain the number of channels\n",
    "chan = preprocess_img(im, True)"
   ]
  },
  {
   "cell_type": "markdown",
   "metadata": {
    "id": "ZSrGfRpdVNTw"
   },
   "source": [
    "### code for parts a) - f)"
   ]
  },
  {
   "cell_type": "code",
   "execution_count": null,
   "metadata": {
    "id": "MTQEWDUeVU5m"
   },
   "outputs": [],
   "source": []
  }
 ],
 "metadata": {
  "colab": {
   "provenance": []
  },
  "kernelspec": {
   "display_name": "Python 3 (ipykernel)",
   "language": "python",
   "name": "python3"
  },
  "language_info": {
   "codemirror_mode": {
    "name": "ipython",
    "version": 3
   },
   "file_extension": ".py",
   "mimetype": "text/x-python",
   "name": "python",
   "nbconvert_exporter": "python",
   "pygments_lexer": "ipython3",
   "version": "3.11.4"
  }
 },
 "nbformat": 4,
 "nbformat_minor": 1
}
